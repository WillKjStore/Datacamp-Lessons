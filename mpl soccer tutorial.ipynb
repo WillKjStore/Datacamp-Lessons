{
 "cells": [
  {
   "cell_type": "code",
   "execution_count": 1,
   "id": "3aec16ee",
   "metadata": {
    "_cell_guid": "b1076dfc-b9ad-4769-8c92-a6c4dae69d19",
    "_uuid": "8f2839f25d086af736a60e9eeb907d3b93b6e0e5",
    "execution": {
     "iopub.execute_input": "2022-09-12T23:54:00.660050Z",
     "iopub.status.busy": "2022-09-12T23:54:00.659318Z",
     "iopub.status.idle": "2022-09-12T23:54:00.675868Z",
     "shell.execute_reply": "2022-09-12T23:54:00.674096Z"
    },
    "papermill": {
     "duration": 0.026226,
     "end_time": "2022-09-12T23:54:00.679663",
     "exception": false,
     "start_time": "2022-09-12T23:54:00.653437",
     "status": "completed"
    },
    "tags": []
   },
   "outputs": [],
   "source": [
    "# This Python 3 environment comes with many helpful analytics libraries installed\n",
    "# It is defined by the kaggle/python Docker image: https://github.com/kaggle/docker-python\n",
    "# For example, here's several helpful packages to load\n",
    "\n",
    "import numpy as np # linear algebra\n",
    "import pandas as pd # data processing, CSV file I/O (e.g. pd.read_csv)\n",
    "\n",
    "# Input data files are available in the read-only \"../input/\" directory\n",
    "# For example, running this (by clicking run or pressing Shift+Enter) will list all files under the input directory\n",
    "\n",
    "import os\n",
    "for dirname, _, filenames in os.walk('/kaggle/input'):\n",
    "    for filename in filenames:\n",
    "        print(os.path.join(dirname, filename))\n",
    "\n",
    "# You can write up to 20GB to the current directory (/kaggle/working/) that gets preserved as output when you create a version using \"Save & Run All\" \n",
    "# You can also write temporary files to /kaggle/temp/, but they won't be saved outside of the current session"
   ]
  },
  {
   "cell_type": "code",
   "execution_count": 2,
   "id": "615db19d",
   "metadata": {
    "execution": {
     "iopub.execute_input": "2022-09-12T23:54:00.687703Z",
     "iopub.status.busy": "2022-09-12T23:54:00.687300Z",
     "iopub.status.idle": "2022-09-12T23:54:13.080797Z",
     "shell.execute_reply": "2022-09-12T23:54:13.079612Z"
    },
    "papermill": {
     "duration": 12.399753,
     "end_time": "2022-09-12T23:54:13.083021",
     "exception": false,
     "start_time": "2022-09-12T23:54:00.683268",
     "status": "completed"
    },
    "tags": []
   },
   "outputs": [
    {
     "name": "stdout",
     "output_type": "stream",
     "text": [
      "Collecting mplsoccer\r\n",
      "  Downloading mplsoccer-1.1.6-py3-none-any.whl (101 kB)\r\n",
      "\u001b[2K     \u001b[90m━━━━━━━━━━━━━━━━━━━━━━━━━━━━━━━━━━━━━\u001b[0m \u001b[32m101.4/101.4 kB\u001b[0m \u001b[31m671.6 kB/s\u001b[0m eta \u001b[36m0:00:00\u001b[0m\r\n",
      "\u001b[?25hRequirement already satisfied: numpy in /opt/conda/lib/python3.7/site-packages (from mplsoccer) (1.21.6)\r\n",
      "Requirement already satisfied: scipy in /opt/conda/lib/python3.7/site-packages (from mplsoccer) (1.7.3)\r\n",
      "Requirement already satisfied: pillow in /opt/conda/lib/python3.7/site-packages (from mplsoccer) (9.1.1)\r\n",
      "Requirement already satisfied: pandas in /opt/conda/lib/python3.7/site-packages (from mplsoccer) (1.3.5)\r\n",
      "Requirement already satisfied: seaborn in /opt/conda/lib/python3.7/site-packages (from mplsoccer) (0.11.2)\r\n",
      "Requirement already satisfied: requests in /opt/conda/lib/python3.7/site-packages (from mplsoccer) (2.28.1)\r\n",
      "Requirement already satisfied: matplotlib in /opt/conda/lib/python3.7/site-packages (from mplsoccer) (3.5.3)\r\n",
      "Requirement already satisfied: packaging>=20.0 in /opt/conda/lib/python3.7/site-packages (from matplotlib->mplsoccer) (21.3)\r\n",
      "Requirement already satisfied: kiwisolver>=1.0.1 in /opt/conda/lib/python3.7/site-packages (from matplotlib->mplsoccer) (1.4.3)\r\n",
      "Requirement already satisfied: fonttools>=4.22.0 in /opt/conda/lib/python3.7/site-packages (from matplotlib->mplsoccer) (4.33.3)\r\n",
      "Requirement already satisfied: python-dateutil>=2.7 in /opt/conda/lib/python3.7/site-packages (from matplotlib->mplsoccer) (2.8.2)\r\n",
      "Requirement already satisfied: cycler>=0.10 in /opt/conda/lib/python3.7/site-packages (from matplotlib->mplsoccer) (0.11.0)\r\n",
      "Requirement already satisfied: pyparsing>=2.2.1 in /opt/conda/lib/python3.7/site-packages (from matplotlib->mplsoccer) (3.0.9)\r\n",
      "Requirement already satisfied: pytz>=2017.3 in /opt/conda/lib/python3.7/site-packages (from pandas->mplsoccer) (2022.1)\r\n",
      "Requirement already satisfied: urllib3<1.27,>=1.21.1 in /opt/conda/lib/python3.7/site-packages (from requests->mplsoccer) (1.26.11)\r\n",
      "Requirement already satisfied: certifi>=2017.4.17 in /opt/conda/lib/python3.7/site-packages (from requests->mplsoccer) (2022.6.15)\r\n",
      "Requirement already satisfied: charset-normalizer<3,>=2 in /opt/conda/lib/python3.7/site-packages (from requests->mplsoccer) (2.1.0)\r\n",
      "Requirement already satisfied: idna<4,>=2.5 in /opt/conda/lib/python3.7/site-packages (from requests->mplsoccer) (3.3)\r\n",
      "Requirement already satisfied: typing-extensions in /opt/conda/lib/python3.7/site-packages (from kiwisolver>=1.0.1->matplotlib->mplsoccer) (4.3.0)\r\n",
      "Requirement already satisfied: six>=1.5 in /opt/conda/lib/python3.7/site-packages (from python-dateutil>=2.7->matplotlib->mplsoccer) (1.15.0)\r\n",
      "Installing collected packages: mplsoccer\r\n",
      "Successfully installed mplsoccer-1.1.6\r\n",
      "\u001b[33mWARNING: Running pip as the 'root' user can result in broken permissions and conflicting behaviour with the system package manager. It is recommended to use a virtual environment instead: https://pip.pypa.io/warnings/venv\u001b[0m\u001b[33m\r\n",
      "\u001b[0m"
     ]
    }
   ],
   "source": [
    "!pip install mplsoccer"
   ]
  },
  {
   "cell_type": "code",
   "execution_count": 3,
   "id": "2bdd69f8",
   "metadata": {
    "execution": {
     "iopub.execute_input": "2022-09-12T23:54:13.090839Z",
     "iopub.status.busy": "2022-09-12T23:54:13.090517Z",
     "iopub.status.idle": "2022-09-12T23:54:14.331570Z",
     "shell.execute_reply": "2022-09-12T23:54:14.330381Z"
    },
    "papermill": {
     "duration": 1.24761,
     "end_time": "2022-09-12T23:54:14.333782",
     "exception": false,
     "start_time": "2022-09-12T23:54:13.086172",
     "status": "completed"
    },
    "tags": []
   },
   "outputs": [],
   "source": [
    "from mplsoccer import Pitch, VerticalPitch"
   ]
  },
  {
   "cell_type": "code",
   "execution_count": 4,
   "id": "719436d1",
   "metadata": {
    "execution": {
     "iopub.execute_input": "2022-09-12T23:54:14.340969Z",
     "iopub.status.busy": "2022-09-12T23:54:14.340588Z",
     "iopub.status.idle": "2022-09-12T23:54:14.556852Z",
     "shell.execute_reply": "2022-09-12T23:54:14.555229Z"
    },
    "papermill": {
     "duration": 0.222288,
     "end_time": "2022-09-12T23:54:14.558970",
     "exception": false,
     "start_time": "2022-09-12T23:54:14.336682",
     "status": "completed"
    },
    "tags": []
   },
   "outputs": [
    {
     "data": {
      "image/png": "[encoded data removed]",
      "text/plain": [
       "<Figure size 432x288 with 1 Axes>"
      ]
     },
     "metadata": {},
     "output_type": "display_data"
    }
   ],
   "source": [
    "pitch = Pitch()\n",
    "fig, ax = pitch.draw()"
   ]
  },
  {
   "cell_type": "code",
   "execution_count": 5,
   "id": "961fa11f",
   "metadata": {
    "execution": {
     "iopub.execute_input": "2022-09-12T23:54:14.567867Z",
     "iopub.status.busy": "2022-09-12T23:54:14.567448Z",
     "iopub.status.idle": "2022-09-12T23:54:14.730309Z",
     "shell.execute_reply": "2022-09-12T23:54:14.729250Z"
    },
    "papermill": {
     "duration": 0.170649,
     "end_time": "2022-09-12T23:54:14.732805",
     "exception": false,
     "start_time": "2022-09-12T23:54:14.562156",
     "status": "completed"
    },
    "tags": []
   },
   "outputs": [
    {
     "data": {
      "image/png": "[encoded data removed]",
      "text/plain": [
       "<Figure size 432x288 with 1 Axes>"
      ]
     },
     "metadata": {},
     "output_type": "display_data"
    }
   ],
   "source": [
    "pitch = VerticalPitch()\n",
    "fig, ax = pitch.draw()"
   ]
  },
  {
   "cell_type": "code",
   "execution_count": 6,
   "id": "14fc4830",
   "metadata": {
    "execution": {
     "iopub.execute_input": "2022-09-12T23:54:14.742765Z",
     "iopub.status.busy": "2022-09-12T23:54:14.742480Z",
     "iopub.status.idle": "2022-09-12T23:54:15.495475Z",
     "shell.execute_reply": "2022-09-12T23:54:15.494314Z"
    },
    "papermill": {
     "duration": 0.760714,
     "end_time": "2022-09-12T23:54:15.498185",
     "exception": false,
     "start_time": "2022-09-12T23:54:14.737471",
     "status": "completed"
    },
    "tags": []
   },
   "outputs": [
    {
     "data": {
      "image/png": "[encoded data removed]",
      "text/plain": [
       "<Figure size 461.473x648 with 8 Axes>"
      ]
     },
     "metadata": {
      "needs_background": "light"
     },
     "output_type": "display_data"
    }
   ],
   "source": [
    "pitch = Pitch()\n",
    "fig, axs = pitch.grid(nrows=3, ncols=2)"
   ]
  },
  {
   "cell_type": "code",
   "execution_count": 7,
   "id": "c2776f4e",
   "metadata": {
    "execution": {
     "iopub.execute_input": "2022-09-12T23:54:15.508269Z",
     "iopub.status.busy": "2022-09-12T23:54:15.507865Z",
     "iopub.status.idle": "2022-09-12T23:54:15.514212Z",
     "shell.execute_reply": "2022-09-12T23:54:15.512241Z"
    },
    "papermill": {
     "duration": 0.014761,
     "end_time": "2022-09-12T23:54:15.517122",
     "exception": false,
     "start_time": "2022-09-12T23:54:15.502361",
     "status": "completed"
    },
    "tags": []
   },
   "outputs": [],
   "source": [
    "import pandas as pd"
   ]
  },
  {
   "cell_type": "code",
   "execution_count": null,
   "id": "1923842e",
   "metadata": {
    "papermill": {
     "duration": 0.003608,
     "end_time": "2022-09-12T23:54:15.524822",
     "exception": false,
     "start_time": "2022-09-12T23:54:15.521214",
     "status": "completed"
    },
    "tags": []
   },
   "outputs": [],
   "source": []
  }
 ],
 "metadata": {
  "kernelspec": {
   "display_name": "Python 3",
   "language": "python",
   "name": "python3"
  },
  "language_info": {
   "codemirror_mode": {
    "name": "ipython",
    "version": 3
   },
   "file_extension": ".py",
   "mimetype": "text/x-python",
   "name": "python",
   "nbconvert_exporter": "python",
   "pygments_lexer": "ipython3",
   "version": "3.7.12"
  },
  "papermill": {
   "default_parameters": {},
   "duration": 25.767613,
   "end_time": "2022-09-12T23:54:16.351298",
   "environment_variables": {},
   "exception": null,
   "input_path": "__notebook__.ipynb",
   "output_path": "__notebook__.ipynb",
   "parameters": {},
   "start_time": "2022-09-12T23:53:50.583685",
   "version": "2.3.4"
  }
 },
 "nbformat": 4,
 "nbformat_minor": 5
}
